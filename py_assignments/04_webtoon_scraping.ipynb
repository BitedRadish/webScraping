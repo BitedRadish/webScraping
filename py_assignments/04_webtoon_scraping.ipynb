{
 "cells": [
  {
   "cell_type": "code",
   "execution_count": 31,
   "id": "6c83480e",
   "metadata": {},
   "outputs": [],
   "source": [
    "import requests\n",
    "from bs4 import BeautifulSoup\n",
    "import os\n",
    "\n",
    "cur_path=os.getcwd()\n",
    "\n",
    "def download_one_episode(title,no,url):\n",
    "    req_header = {\n",
    "        \"referer\": url\n",
    "    }\n",
    "    res=requests.get(url,headers=req_header)\n",
    "\n",
    "    if(res.ok):\n",
    "        soup=BeautifulSoup(res.text,\"html.parser\")\n",
    "        # soup.select(\"img[src*='IMAG01']\")\n",
    "        imgs=soup.select(\"div#sectionContWide>img\")\n",
    "\n",
    "        img_dir_name=\"img\"\n",
    "        save_dir = os.path.join(cur_path, img_dir_name, title, str(no))\n",
    "\n",
    "        os.makedirs(save_dir,exist_ok=True)\n",
    "        if not os.path.isdir(img_dir_name):\n",
    "            os.mkdir(img_dir_name)\n",
    "        \n",
    "\n",
    "        for img in imgs:\n",
    "            img_src=img[\"src\"]\n",
    "            img_data=requests.get(img_src,headers=req_header).content\n",
    "            \n",
    "            # os.path.basename은 url에서 맨 마지막 파일명만 뽑아주는 함수\n",
    "            file_base = os.path.basename(img_src)\n",
    "            file_name=os.path.join(cur_path,img_dir_name,title,str(no),file_base)\n",
    "\n",
    "\n",
    "            with open(file_name,\"wb\") as file :\n",
    "                file.write(img_data)\n",
    "                print(f\"{file_name} 저장 완료\")\n",
    "\n",
    "    else:\n",
    "        print(f\"error_code : {res.status_code}\")"
   ]
  },
  {
   "cell_type": "code",
   "execution_count": 32,
   "id": "ae6100de",
   "metadata": {},
   "outputs": [
    {
     "name": "stdout",
     "output_type": "stream",
     "text": [
      "/Users/bitedradish/Desktop/2025/python_assignment/py_class/py_assignments/img/죽음에관하여/1/age_12_white.jpg 저장 완료\n",
      "/Users/bitedradish/Desktop/2025/python_assignment/py_class/py_assignments/img/죽음에관하여/1/20180130232139_3d393a71c5e11dede13648cd2b17279b_IMAG01_1.jpg 저장 완료\n",
      "/Users/bitedradish/Desktop/2025/python_assignment/py_class/py_assignments/img/죽음에관하여/1/20180130232139_3d393a71c5e11dede13648cd2b17279b_IMAG01_2.jpg 저장 완료\n",
      "/Users/bitedradish/Desktop/2025/python_assignment/py_class/py_assignments/img/죽음에관하여/1/20180130232139_3d393a71c5e11dede13648cd2b17279b_IMAG01_3.jpg 저장 완료\n",
      "/Users/bitedradish/Desktop/2025/python_assignment/py_class/py_assignments/img/죽음에관하여/1/20180130232139_3d393a71c5e11dede13648cd2b17279b_IMAG01_4.jpg 저장 완료\n",
      "/Users/bitedradish/Desktop/2025/python_assignment/py_class/py_assignments/img/죽음에관하여/1/20180130232139_3d393a71c5e11dede13648cd2b17279b_IMAG01_5.jpg 저장 완료\n",
      "/Users/bitedradish/Desktop/2025/python_assignment/py_class/py_assignments/img/죽음에관하여/1/20180130232139_3d393a71c5e11dede13648cd2b17279b_IMAG01_6.jpg 저장 완료\n"
     ]
    }
   ],
   "source": [
    "download_one_episode(\"죽음에관하여\",1,\"https://comic.naver.com/webtoon/detail?titleId=703845&no=1&week=finish\")\n"
   ]
  },
  {
   "cell_type": "code",
   "execution_count": null,
   "id": "c975d6e4",
   "metadata": {},
   "outputs": [],
   "source": []
  }
 ],
 "metadata": {
  "kernelspec": {
   "display_name": "base",
   "language": "python",
   "name": "python3"
  },
  "language_info": {
   "codemirror_mode": {
    "name": "ipython",
    "version": 3
   },
   "file_extension": ".py",
   "mimetype": "text/x-python",
   "name": "python",
   "nbconvert_exporter": "python",
   "pygments_lexer": "ipython3",
   "version": "3.12.7"
  }
 },
 "nbformat": 4,
 "nbformat_minor": 5
}
