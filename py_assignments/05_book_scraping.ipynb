{
 "cells": [
  {
   "cell_type": "code",
   "execution_count": 59,
   "id": "a2aa7954",
   "metadata": {},
   "outputs": [
    {
     "data": {
      "text/plain": [
       "True"
      ]
     },
     "execution_count": 59,
     "metadata": {},
     "output_type": "execute_result"
    }
   ],
   "source": [
    "from bs4 import BeautifulSoup\n",
    "import requests\n",
    "from dotenv import load_dotenv\n",
    "import os\n",
    "import urllib.request\n",
    "import pprint\n",
    "import json\n",
    "\n",
    "headers = {\n",
    "    'user-agent':'Mozilla/5.0 (Windows NT 10.0; Win64; x64) AppleWebKit/537.36 (KHTML, like Gecko) Chrome/74.0.3729.169 Safari/537.36'\n",
    "}\n",
    "client_id = os.getenv(\"NAVER_CLIENT_ID\") \n",
    "client_secret = os.getenv(\"NAVER_CLIENT_SECRET\")\n",
    "\n",
    "load_dotenv()\n"
   ]
  },
  {
   "cell_type": "markdown",
   "id": "e4948e6c",
   "metadata": {},
   "source": [
    "## 책 데이터 가져오기"
   ]
  },
  {
   "cell_type": "code",
   "execution_count": 62,
   "id": "5a41fa43",
   "metadata": {},
   "outputs": [],
   "source": [
    "base_url = \"https://openapi.naver.com/v1/search/book.json\"\n",
    "def search_books(query):\n",
    "    payload={\n",
    "        \"query\":query,\n",
    "        \"display\":50,\n",
    "        \"sort\":\"sim\"\n",
    "    }\n",
    "    query_string = urllib.parse.urlencode(payload)\n",
    "    url = f\"{base_url}?{query_string}\"\n",
    "\n",
    "    request = urllib.request.Request(url)\n",
    "    request.add_header(\"X-Naver-Client-Id\", client_id)\n",
    "    request.add_header(\"X-Naver-Client-Secret\", client_secret)\n",
    "\n",
    "    response = urllib.request.urlopen(request)\n",
    "    rescode = response.getcode()\n",
    "\n",
    "    if(rescode==200):\n",
    "        response_body=response.read().decode(\"utf-8\")\n",
    "        result=json.loads(response_body)\n",
    "        return result[\"items\"]\n",
    "\n",
    "\n",
    "\n",
    "    "
   ]
  },
  {
   "cell_type": "markdown",
   "id": "ea4deaaf",
   "metadata": {},
   "source": [
    "## 검색 데이터 저장"
   ]
  },
  {
   "cell_type": "code",
   "execution_count": 84,
   "id": "10d03da5",
   "metadata": {},
   "outputs": [],
   "source": [
    "java_data=search_books(\"파이썬\")"
   ]
  },
  {
   "cell_type": "markdown",
   "id": "f3855ea1",
   "metadata": {},
   "source": [
    "## 질문 1 : 검색어로 찾은 책 목록을 json 파일로 저장하기\n",
    "-> data/book.json"
   ]
  },
  {
   "cell_type": "code",
   "execution_count": 85,
   "id": "be2335ab",
   "metadata": {},
   "outputs": [],
   "source": [
    "def save_to_json(data,name):\n",
    "    with open(f\"data/{name}.json\",\"w\",encoding=\"utf-8\") as file:\n",
    "        json.dump(data,file)"
   ]
  },
  {
   "cell_type": "code",
   "execution_count": 86,
   "id": "fcfffca9",
   "metadata": {},
   "outputs": [],
   "source": [
    "save_to_json(java_data,\"book\")"
   ]
  },
  {
   "cell_type": "markdown",
   "id": "1406900e",
   "metadata": {},
   "source": [
    "## 질문 2 : books.json 파일을 Pandas DataFrame로 저장하기"
   ]
  },
  {
   "cell_type": "code",
   "execution_count": 108,
   "id": "ffbc497d",
   "metadata": {},
   "outputs": [],
   "source": [
    "import pandas as pd\n",
    "def return_to_df(filename):\n",
    "    return pd.read_json(filename)\n",
    "\n",
    "df=return_to_df(\"data/book.json\")"
   ]
  },
  {
   "cell_type": "markdown",
   "id": "1036ee10",
   "metadata": {},
   "source": [
    "## 질문 3 : 검색어로 찾은 책 목록 출력하기"
   ]
  },
  {
   "cell_type": "code",
   "execution_count": 109,
   "id": "72b23a51",
   "metadata": {},
   "outputs": [
    {
     "data": {
      "text/html": [
       "<div>\n",
       "<style scoped>\n",
       "    .dataframe tbody tr th:only-of-type {\n",
       "        vertical-align: middle;\n",
       "    }\n",
       "\n",
       "    .dataframe tbody tr th {\n",
       "        vertical-align: top;\n",
       "    }\n",
       "\n",
       "    .dataframe thead th {\n",
       "        text-align: right;\n",
       "    }\n",
       "</style>\n",
       "<table border=\"1\" class=\"dataframe\">\n",
       "  <thead>\n",
       "    <tr style=\"text-align: right;\">\n",
       "      <th></th>\n",
       "      <th>title</th>\n",
       "      <th>link</th>\n",
       "      <th>image</th>\n",
       "      <th>author</th>\n",
       "      <th>discount</th>\n",
       "      <th>publisher</th>\n",
       "      <th>pubdate</th>\n",
       "      <th>isbn</th>\n",
       "      <th>description</th>\n",
       "    </tr>\n",
       "  </thead>\n",
       "  <tbody>\n",
       "    <tr>\n",
       "      <th>0</th>\n",
       "      <td>혼자 만들면서 공부하는 파이썬 (37개 라이브러리와 API로 보고서, 차트, 게임,...</td>\n",
       "      <td>https://search.shopping.naver.com/book/catalog...</td>\n",
       "      <td>https://shopping-phinf.pstatic.net/main_528593...</td>\n",
       "      <td>문현일</td>\n",
       "      <td>23400</td>\n",
       "      <td>한빛미디어</td>\n",
       "      <td>20250214</td>\n",
       "      <td>9791169213271</td>\n",
       "      <td>“파이썬을 배워서 어디에 활용할 수 있을지 궁금했나요?”\\n나의 신용카드 내역 분석...</td>\n",
       "    </tr>\n",
       "    <tr>\n",
       "      <th>1</th>\n",
       "      <td>혼자 공부하는 파이썬 (1:1 과외하듯 배우는 프로그래밍 자습서)</td>\n",
       "      <td>https://search.shopping.naver.com/book/catalog...</td>\n",
       "      <td>https://shopping-phinf.pstatic.net/main_325076...</td>\n",
       "      <td>윤인성</td>\n",
       "      <td>19800</td>\n",
       "      <td>한빛미디어</td>\n",
       "      <td>20220601</td>\n",
       "      <td>9791162245651</td>\n",
       "      <td>혼자 해도 충분하다! 1:1 과외하듯 배우는 파이썬 프로그래밍 자습서\\n\\n『혼자 ...</td>\n",
       "    </tr>\n",
       "    <tr>\n",
       "      <th>2</th>\n",
       "      <td>Do it! 점프 투 파이썬 (중학생도 첫날부터 실습하는 초고속 입문서)</td>\n",
       "      <td>https://search.shopping.naver.com/book/catalog...</td>\n",
       "      <td>https://shopping-phinf.pstatic.net/main_403540...</td>\n",
       "      <td>박응용</td>\n",
       "      <td>19800</td>\n",
       "      <td>이지스퍼블리싱</td>\n",
       "      <td>20230615</td>\n",
       "      <td>9791163034735</td>\n",
       "      <td>프로그래밍 분야 8년 연속 베스트셀러!\\n《Do it! 점프 투 파이썬》 전면 개정...</td>\n",
       "    </tr>\n",
       "    <tr>\n",
       "      <th>3</th>\n",
       "      <td>밑바닥부터 시작하는 딥러닝 1(리마스터판) (파이썬으로 익히는 딥러닝 이론과 구현)</td>\n",
       "      <td>https://search.shopping.naver.com/book/catalog...</td>\n",
       "      <td>https://shopping-phinf.pstatic.net/main_526155...</td>\n",
       "      <td>사이토 고키</td>\n",
       "      <td>23400</td>\n",
       "      <td>한빛미디어</td>\n",
       "      <td>20250124</td>\n",
       "      <td>9791169213387</td>\n",
       "      <td>딥러닝 분야 부동의 베스트셀러!\\n머리로 이해하고 손으로 익히는 가장 쉬운 딥러닝 ...</td>\n",
       "    </tr>\n",
       "    <tr>\n",
       "      <th>4</th>\n",
       "      <td>파이썬</td>\n",
       "      <td>https://search.shopping.naver.com/book/catalog...</td>\n",
       "      <td>https://shopping-phinf.pstatic.net/main_324609...</td>\n",
       "      <td>홍의경</td>\n",
       "      <td>29440</td>\n",
       "      <td>생능출판</td>\n",
       "      <td>20220309</td>\n",
       "      <td>9788970506784</td>\n",
       "      <td>코딩 실력을 키우는 지름길은 실습이다.\\n\\n2008년 즈음에 검인정 중학교 교과서...</td>\n",
       "    </tr>\n",
       "  </tbody>\n",
       "</table>\n",
       "</div>"
      ],
      "text/plain": [
       "                                               title  \\\n",
       "0  혼자 만들면서 공부하는 파이썬 (37개 라이브러리와 API로 보고서, 차트, 게임,...   \n",
       "1               혼자 공부하는 파이썬 (1:1 과외하듯 배우는 프로그래밍 자습서)   \n",
       "2           Do it! 점프 투 파이썬 (중학생도 첫날부터 실습하는 초고속 입문서)   \n",
       "3     밑바닥부터 시작하는 딥러닝 1(리마스터판) (파이썬으로 익히는 딥러닝 이론과 구현)   \n",
       "4                                                파이썬   \n",
       "\n",
       "                                                link  \\\n",
       "0  https://search.shopping.naver.com/book/catalog...   \n",
       "1  https://search.shopping.naver.com/book/catalog...   \n",
       "2  https://search.shopping.naver.com/book/catalog...   \n",
       "3  https://search.shopping.naver.com/book/catalog...   \n",
       "4  https://search.shopping.naver.com/book/catalog...   \n",
       "\n",
       "                                               image  author  discount  \\\n",
       "0  https://shopping-phinf.pstatic.net/main_528593...     문현일     23400   \n",
       "1  https://shopping-phinf.pstatic.net/main_325076...     윤인성     19800   \n",
       "2  https://shopping-phinf.pstatic.net/main_403540...     박응용     19800   \n",
       "3  https://shopping-phinf.pstatic.net/main_526155...  사이토 고키     23400   \n",
       "4  https://shopping-phinf.pstatic.net/main_324609...     홍의경     29440   \n",
       "\n",
       "  publisher   pubdate           isbn  \\\n",
       "0     한빛미디어  20250214  9791169213271   \n",
       "1     한빛미디어  20220601  9791162245651   \n",
       "2   이지스퍼블리싱  20230615  9791163034735   \n",
       "3     한빛미디어  20250124  9791169213387   \n",
       "4      생능출판  20220309  9788970506784   \n",
       "\n",
       "                                         description  \n",
       "0  “파이썬을 배워서 어디에 활용할 수 있을지 궁금했나요?”\\n나의 신용카드 내역 분석...  \n",
       "1  혼자 해도 충분하다! 1:1 과외하듯 배우는 파이썬 프로그래밍 자습서\\n\\n『혼자 ...  \n",
       "2  프로그래밍 분야 8년 연속 베스트셀러!\\n《Do it! 점프 투 파이썬》 전면 개정...  \n",
       "3  딥러닝 분야 부동의 베스트셀러!\\n머리로 이해하고 손으로 익히는 가장 쉬운 딥러닝 ...  \n",
       "4  코딩 실력을 키우는 지름길은 실습이다.\\n\\n2008년 즈음에 검인정 중학교 교과서...  "
      ]
     },
     "execution_count": 109,
     "metadata": {},
     "output_type": "execute_result"
    }
   ],
   "source": [
    "df.head()"
   ]
  },
  {
   "cell_type": "markdown",
   "id": "57452d43",
   "metadata": {},
   "source": [
    "## 질문 4 : 검색어로 찾은 책 목록 중에서 가격이 2만원 이상인 책만 출력하기"
   ]
  },
  {
   "cell_type": "code",
   "execution_count": 110,
   "id": "69afc249",
   "metadata": {},
   "outputs": [
    {
     "data": {
      "text/html": [
       "<div>\n",
       "<style scoped>\n",
       "    .dataframe tbody tr th:only-of-type {\n",
       "        vertical-align: middle;\n",
       "    }\n",
       "\n",
       "    .dataframe tbody tr th {\n",
       "        vertical-align: top;\n",
       "    }\n",
       "\n",
       "    .dataframe thead th {\n",
       "        text-align: right;\n",
       "    }\n",
       "</style>\n",
       "<table border=\"1\" class=\"dataframe\">\n",
       "  <thead>\n",
       "    <tr style=\"text-align: right;\">\n",
       "      <th></th>\n",
       "      <th>title</th>\n",
       "      <th>author</th>\n",
       "      <th>discount</th>\n",
       "      <th>publisher</th>\n",
       "      <th>pubdate</th>\n",
       "    </tr>\n",
       "  </thead>\n",
       "  <tbody>\n",
       "    <tr>\n",
       "      <th>0</th>\n",
       "      <td>혼자 공부하는 파이썬 (1:1 과외하듯 배우는 프로그래밍 자습서)</td>\n",
       "      <td>윤인성</td>\n",
       "      <td>19800</td>\n",
       "      <td>한빛미디어</td>\n",
       "      <td>20220601</td>\n",
       "    </tr>\n",
       "    <tr>\n",
       "      <th>1</th>\n",
       "      <td>Do it! 점프 투 파이썬 (중학생도 첫날부터 실습하는 초고속 입문서)</td>\n",
       "      <td>박응용</td>\n",
       "      <td>19800</td>\n",
       "      <td>이지스퍼블리싱</td>\n",
       "      <td>20230615</td>\n",
       "    </tr>\n",
       "    <tr>\n",
       "      <th>2</th>\n",
       "      <td>클린 파이썬 (효과적인 파이썬 코딩 기법)</td>\n",
       "      <td>수닐 카필</td>\n",
       "      <td>19800</td>\n",
       "      <td>에이콘출판</td>\n",
       "      <td>20210416</td>\n",
       "    </tr>\n",
       "    <tr>\n",
       "      <th>3</th>\n",
       "      <td>파이썬 정복 (파이썬 개발에 필요한 기본 지식을 모두 담은 파이썬 입문서)</td>\n",
       "      <td>김상형</td>\n",
       "      <td>19800</td>\n",
       "      <td>한빛미디어</td>\n",
       "      <td>20180402</td>\n",
       "    </tr>\n",
       "    <tr>\n",
       "      <th>4</th>\n",
       "      <td>파이썬 프로그래밍 (기초부터 실전까지 한 권에 끝내는, 개정판)</td>\n",
       "      <td>박영권</td>\n",
       "      <td>19800</td>\n",
       "      <td>시대인</td>\n",
       "      <td>20241010</td>\n",
       "    </tr>\n",
       "  </tbody>\n",
       "</table>\n",
       "</div>"
      ],
      "text/plain": [
       "                                       title author  discount publisher  \\\n",
       "0       혼자 공부하는 파이썬 (1:1 과외하듯 배우는 프로그래밍 자습서)    윤인성     19800     한빛미디어   \n",
       "1   Do it! 점프 투 파이썬 (중학생도 첫날부터 실습하는 초고속 입문서)    박응용     19800   이지스퍼블리싱   \n",
       "2                    클린 파이썬 (효과적인 파이썬 코딩 기법)  수닐 카필     19800     에이콘출판   \n",
       "3  파이썬 정복 (파이썬 개발에 필요한 기본 지식을 모두 담은 파이썬 입문서)    김상형     19800     한빛미디어   \n",
       "4        파이썬 프로그래밍 (기초부터 실전까지 한 권에 끝내는, 개정판)    박영권     19800       시대인   \n",
       "\n",
       "    pubdate  \n",
       "0  20220601  \n",
       "1  20230615  \n",
       "2  20210416  \n",
       "3  20180402  \n",
       "4  20241010  "
      ]
     },
     "execution_count": 110,
     "metadata": {},
     "output_type": "execute_result"
    }
   ],
   "source": [
    "cols_to_drop = [\"image\", \"description\", \"isbn\", \"link\"]\n",
    "\n",
    "lower_20000 = (\n",
    "    df[df[\"discount\"] <= 20000]\n",
    "    .drop(columns=cols_to_drop)\n",
    "    .sort_values(by=\"discount\", ascending=False)\n",
    "    .reset_index(drop=True)\n",
    ")\n",
    "\n",
    "lower_20000.head()"
   ]
  },
  {
   "cell_type": "markdown",
   "id": "effaa988",
   "metadata": {},
   "source": [
    "## 질문 5 :  검색어로  찾은  책 목록 중에서 출판사가 인피니티북스인 책만 출력하기"
   ]
  },
  {
   "cell_type": "code",
   "execution_count": 111,
   "id": "105a20bc",
   "metadata": {},
   "outputs": [
    {
     "data": {
      "text/html": [
       "<div>\n",
       "<style scoped>\n",
       "    .dataframe tbody tr th:only-of-type {\n",
       "        vertical-align: middle;\n",
       "    }\n",
       "\n",
       "    .dataframe tbody tr th {\n",
       "        vertical-align: top;\n",
       "    }\n",
       "\n",
       "    .dataframe thead th {\n",
       "        text-align: right;\n",
       "    }\n",
       "</style>\n",
       "<table border=\"1\" class=\"dataframe\">\n",
       "  <thead>\n",
       "    <tr style=\"text-align: right;\">\n",
       "      <th></th>\n",
       "      <th>title</th>\n",
       "      <th>author</th>\n",
       "      <th>discount</th>\n",
       "      <th>publisher</th>\n",
       "      <th>pubdate</th>\n",
       "    </tr>\n",
       "  </thead>\n",
       "  <tbody>\n",
       "    <tr>\n",
       "      <th>7</th>\n",
       "      <td>파이썬</td>\n",
       "      <td>천인국</td>\n",
       "      <td>12000</td>\n",
       "      <td>인피니티북스</td>\n",
       "      <td>20170830</td>\n",
       "    </tr>\n",
       "    <tr>\n",
       "      <th>28</th>\n",
       "      <td>파이썬 플러스</td>\n",
       "      <td>최희식</td>\n",
       "      <td>23750</td>\n",
       "      <td>인피니티북스</td>\n",
       "      <td>20240731</td>\n",
       "    </tr>\n",
       "    <tr>\n",
       "      <th>49</th>\n",
       "      <td>디딤돌 파이썬 (구조적 프로그래밍으로 설명한 파이썬 기초)</td>\n",
       "      <td>이찬수</td>\n",
       "      <td>26100</td>\n",
       "      <td>인피니티북스</td>\n",
       "      <td>20220823</td>\n",
       "    </tr>\n",
       "  </tbody>\n",
       "</table>\n",
       "</div>"
      ],
      "text/plain": [
       "                               title author  discount publisher   pubdate\n",
       "7                                파이썬    천인국     12000    인피니티북스  20170830\n",
       "28                           파이썬 플러스    최희식     23750    인피니티북스  20240731\n",
       "49  디딤돌 파이썬 (구조적 프로그래밍으로 설명한 파이썬 기초)    이찬수     26100    인피니티북스  20220823"
      ]
     },
     "execution_count": 111,
     "metadata": {},
     "output_type": "execute_result"
    }
   ],
   "source": [
    "from_infinite_books=df[df[\"publisher\"]==\"인피니티북스\"].drop(columns=cols_to_drop)\n",
    "\n",
    "from_infinite_books.head()"
   ]
  }
 ],
 "metadata": {
  "kernelspec": {
   "display_name": "base",
   "language": "python",
   "name": "python3"
  },
  "language_info": {
   "codemirror_mode": {
    "name": "ipython",
    "version": 3
   },
   "file_extension": ".py",
   "mimetype": "text/x-python",
   "name": "python",
   "nbconvert_exporter": "python",
   "pygments_lexer": "ipython3",
   "version": "3.12.7"
  }
 },
 "nbformat": 4,
 "nbformat_minor": 5
}
