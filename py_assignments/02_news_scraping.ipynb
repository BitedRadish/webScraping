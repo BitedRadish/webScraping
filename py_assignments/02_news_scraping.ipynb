{
 "cells": [
  {
   "cell_type": "code",
   "execution_count": 5,
   "id": "a335de50",
   "metadata": {},
   "outputs": [],
   "source": [
    "import requests\n",
    "from bs4 import BeautifulSoup\n",
    "\n",
    "req_header = {\n",
    "    \"user-agent\": \"Mozilla/5.0 (Macintosh; Intel Mac OS X 10_15_7) AppleWebKit/537.36 (KHTML, like Gecko) Chrome/135.0.0.0 Safari/537.36\"\n",
    "}\n",
    "\n",
    "section_dict = {'기후/환경': 'climate', '사회': 'society', '경제': 'economy', '정치': 'politics',\n",
    "                '국재': 'world', '문화': 'culture', '생활': 'life', 'IT/과학': 'tech', '인물': 'people'}"
   ]
  },
  {
   "cell_type": "code",
   "execution_count": null,
   "id": "6482cd86",
   "metadata": {},
   "outputs": [],
   "source": [
    "def print_news(section):\n",
    "    if section not in section_dict:\n",
    "        return print(\"해당하는 카테고리가 존재하지 않습니다.\")\n",
    "    \n",
    "    url = f\"https://news.daum.net/{section_dict[section]}\"\n",
    "\n",
    "    print(f\"=====>{url} {section} 뉴스 <=====\")\n",
    "\n",
    "    res = requests.get(url, req_header)\n",
    "    res.encoding = \"utf-8\"\n",
    "\n",
    "    if (res.ok):\n",
    "        html = res.text\n",
    "        soup = BeautifulSoup(html, \"html.parser\")\n",
    "\n",
    "        li_list = soup.select(\"ul.list_newsheadline2 li\")\n",
    "\n",
    "        for li in li_list:\n",
    "            link = li.select_one(\"a\")\n",
    "            # select() => ResultSet, select_one() => Tag\n",
    "            title = li.select_one(\"div.cont_thumb strong\")\n",
    "\n",
    "            print(link[\"href\"])\n",
    "            print(title.getText())\n",
    "\n",
    "            # print(title[0].getText())\n",
    "            # print(link[0][\"href\"])"
   ]
  },
  {
   "cell_type": "code",
   "execution_count": 13,
   "id": "f240865c",
   "metadata": {},
   "outputs": [
    {
     "name": "stdout",
     "output_type": "stream",
     "text": [
      "=====>https://news.daum.net/economy 경제 뉴스 <=====\n",
      "https://v.daum.net/v/20250409093301936\n",
      "투심 끊긴 CBD 오피스…\"이 값엔 못 팔아\" 잇단 매각 철회도\n",
      "https://v.daum.net/v/20250409092501576\n",
      "車·부품업계에 정책금융 2조원 추가 공급…전기차 보조금 확대(종합)\n",
      "https://v.daum.net/v/20250409091935326\n",
      "‘회복’이라는 착시.. “청년은 떠났고, 일터는 비어 있다”\n",
      "https://v.daum.net/v/20250409091646199\n",
      "[뉴스UP] 미국, 오늘부터 25% 상호관세...뭐가 어떻게 바뀌나?\n",
      "https://v.daum.net/v/20250409081220033\n",
      "[美 관세대응]수출바우처 1000억·긴급경영자금 2500억…남미로 수출다변화\n",
      "https://v.daum.net/v/20250409081011975\n",
      "'상상초월' 104% 관세 맞은 中...트럼프 피해갈 우회 경로 [굿모닝경제]\n",
      "https://v.daum.net/v/20250409080016699\n",
      "'25% 車관세 대응' 유동성 3조 추가 공급…국내 수요 늘려 충격완화\n",
      "https://v.daum.net/v/20250409080013691\n",
      "‘트럼프 美 관세 충격’ 車·부품에 올해 정책금융 13조원 → 15조원\n",
      "https://v.daum.net/v/20250409080011684\n",
      "관세 피해 지원에 추경 등 재정 투입…한일중 FTA 논의 '속도'\n"
     ]
    }
   ],
   "source": [
    "print_news(\"경제\")"
   ]
  },
  {
   "cell_type": "code",
   "execution_count": 14,
   "id": "bbf3964b",
   "metadata": {},
   "outputs": [
    {
     "name": "stdout",
     "output_type": "stream",
     "text": [
      "=====>https://news.daum.net/people 인물 뉴스 <=====\n",
      "https://v.daum.net/v/20250409090923890\n",
      "“딸 두면 비행기 탄다더라”… 여행준비가 즐겁고 더 화기애애[사랑합니다]\n",
      "https://v.daum.net/v/20250409060010711\n",
      "[무늬가 있는 삶] 읽다가 길을 발견하다…개그맨 작가 고명환 | 전원생활\n",
      "https://v.daum.net/v/20250409002427134\n",
      "\"성공? 하버드 아닌 한국 식료품점서 답 찾았다\" [안혜리의 인생]\n",
      "https://v.daum.net/v/20250408175217633\n",
      "\"모든 보도는 본질적으로 탐사보도, 주변에 관심 가져야\"\n",
      "https://v.daum.net/v/20250408175038567\n",
      "기자·가수 겸업… 펜과 마이크로 방글라데시 삶 그리다\n",
      "https://v.daum.net/v/20250408173634060\n",
      "\"제자에 패한 뒤 무관 전락···부모상 같은 고통이었죠\"\n",
      "https://v.daum.net/v/20250408162102294\n",
      "대장장이가 제 직업입니다, 저는 그게 자랑스럽습니다\n",
      "https://v.daum.net/v/20250408092113275\n",
      "소쿠리를 소꼬리로 잘못 알아듣고… 몸보신 얘기에 웃음만발[사랑합니다]\n",
      "https://v.daum.net/v/20250408080901962\n",
      "한국 발레 전성기 만든 최태지가 아직도 꾸는 꿈\n",
      "https://v.daum.net/v/20250408043126944\n",
      "[가만한 당신] 냉전 체스 판의 '폰'이기를 거부한 체스 챔프\n",
      "https://v.daum.net/v/20250405050216058\n",
      "[단독] 언더우드의 110년 전 편지… “한국인은 고등 교육 받을 준비 돼 있다”\n",
      "https://v.daum.net/v/20250403060005274\n",
      "③목숨 건 ‘뿌리 찾기’···벽 앞에 울다[생사고투]\n",
      "https://v.daum.net/v/20250402164120082\n",
      "종교를 초월한 인연…‘인천 봉사왕’ 故장성철씨 49재 거행\n",
      "https://v.daum.net/v/20250402095023046\n",
      "2차대전 때 독일·일본軍 암호 푼 英 여성 비밀 요원 별세\n",
      "https://v.daum.net/v/20250409090923890\n",
      "“딸 두면 비행기 탄다더라”… 여행준비가 즐겁고 더 화기애애[사랑합니다]\n"
     ]
    }
   ],
   "source": [
    "print_news(\"인물\")"
   ]
  },
  {
   "cell_type": "code",
   "execution_count": 9,
   "id": "81ddd984",
   "metadata": {},
   "outputs": [
    {
     "name": "stdout",
     "output_type": "stream",
     "text": [
      "해당하는 카테고리가 존재하지 않습니다.\n"
     ]
    }
   ],
   "source": [
    "print_news(\"이무현\")"
   ]
  }
 ],
 "metadata": {
  "kernelspec": {
   "display_name": "base",
   "language": "python",
   "name": "python3"
  },
  "language_info": {
   "codemirror_mode": {
    "name": "ipython",
    "version": 3
   },
   "file_extension": ".py",
   "mimetype": "text/x-python",
   "name": "python",
   "nbconvert_exporter": "python",
   "pygments_lexer": "ipython3",
   "version": "3.12.7"
  }
 },
 "nbformat": 4,
 "nbformat_minor": 5
}
