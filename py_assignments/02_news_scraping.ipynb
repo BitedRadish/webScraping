{
 "cells": [
  {
   "cell_type": "code",
   "execution_count": 10,
   "id": "a335de50",
   "metadata": {},
   "outputs": [],
   "source": [
    "import requests\n",
    "from bs4 import BeautifulSoup\n",
    "\n",
    "req_header = {\n",
    "    \"user-agent\": \"Mozilla/5.0 (Macintosh; Intel Mac OS X 10_15_7) AppleWebKit/537.36 (KHTML, like Gecko) Chrome/135.0.0.0 Safari/537.36\"\n",
    "}\n",
    "\n",
    "section_dict = {'기후/환경': 'climate', '사회': 'society', '경제': 'economy', '정치': 'politics',\n",
    "                '국재': 'world', '문화': 'culture', '생활': 'life', 'IT/과학': 'tech', '인물': 'people'}"
   ]
  },
  {
   "cell_type": "code",
   "execution_count": 29,
   "id": "6482cd86",
   "metadata": {},
   "outputs": [],
   "source": [
    "def print_news(section):\n",
    "    if section not in section_dict:\n",
    "        return print(\"해당하는 카테고리가 존재하지 않습니다.\")\n",
    "    \n",
    "    url = f\"https://news.daum.net/{section_dict[section]}\"\n",
    "\n",
    "    print(f\"=====>{url} {section} 뉴스 <=====\")\n",
    "\n",
    "    res = requests.get(url, req_header)\n",
    "    res.encoding = \"utf-8\"\n",
    "\n",
    "    if (res.ok):\n",
    "        html = res.text\n",
    "        soup = BeautifulSoup(html, \"html.parser\")\n",
    "\n",
    "        li_list = soup.select(\"ul.list_newsheadline2 li\")\n",
    "\n",
    "        for li in li_list:\n",
    "            link = li.select(\"a\")\n",
    "            title = li.select(\"div.cont_thumb strong\")\n",
    "\n",
    "            print(title[0].getText())\n",
    "            print(link[0][\"href\"])"
   ]
  },
  {
   "cell_type": "code",
   "execution_count": 30,
   "id": "f240865c",
   "metadata": {},
   "outputs": [
    {
     "name": "stdout",
     "output_type": "stream",
     "text": [
      "=====>https://news.daum.net/economy 경제 뉴스 <=====\n",
      "이러다 진짜 전쟁...트럼프 '104% 관세'에 끝까지 싸운다는 中 [데일리 아시아]\n",
      "https://v.daum.net/v/20250408171205288\n",
      "트럼프발 주가폭락에 동아 \"경제적 핵전쟁\" 조선 \"금융위기 후 최악\"\n",
      "https://v.daum.net/v/20250408161553109\n",
      "공황과 격변의 판도라 박스가 열리다\n",
      "https://v.daum.net/v/20250408160526681\n",
      "해외서 발 뺀 이중항체, 韓 기업들이 이끈다\n",
      "https://v.daum.net/v/20250408154329660\n",
      "탄핵 끝났는데 韓경제 ‘봄’은 언제 오나…박근혜 때와 다른 이유\n",
      "https://v.daum.net/v/20250408153003030\n",
      "경상수지 흑자행진에도… 한은 “美 관세에 불확실성 확대”\n",
      "https://v.daum.net/v/20250408152923007\n",
      "국제유가 하락에 흔들리는 정유업계…실적 먹구름 짙어진다\n",
      "https://v.daum.net/v/20250408144527816\n",
      "조양호 한진그룹 선대회장 6주기… ‘45년 항공산업’ 리더십 재조명\n",
      "https://v.daum.net/v/20250408140753767\n",
      "미국 최대 은행이 \"여성 경영인이 경제 원동력\"이라 말한 이유\n",
      "https://v.daum.net/v/20250408140302580\n"
     ]
    }
   ],
   "source": [
    "print_news(\"경제\")"
   ]
  },
  {
   "cell_type": "code",
   "execution_count": 31,
   "id": "bbf3964b",
   "metadata": {},
   "outputs": [
    {
     "name": "stdout",
     "output_type": "stream",
     "text": [
      "=====>https://news.daum.net/people 인물 뉴스 <=====\n",
      "대장장이가 제 직업입니다, 저는 그게 자랑스럽습니다\n",
      "https://v.daum.net/v/20250408162102294\n",
      "소쿠리를 소꼬리로 잘못 알아듣고… 몸보신 얘기에 웃음만발[사랑합니다]\n",
      "https://v.daum.net/v/20250408092113275\n",
      "한국 발레 전성기 만든 최태지가 아직도 꾸는 꿈\n",
      "https://v.daum.net/v/20250408080901962\n",
      "[MZ순경]’가만히 안아줄 수 있는 경찰 되고파’...시 쓰는 순경\n",
      "https://v.daum.net/v/20250408080028797\n",
      "제69회 신문의 날 기념대회… \"신문 역할·책임 막중\"\n",
      "https://v.daum.net/v/20250407200810079\n",
      "경기일보 K-ECO팀 ‘발암물질 위의 아이들’ 한국신문상·최현호 정치부 차장 협회상 수상\n",
      "https://v.daum.net/v/20250407184235757\n",
      "범인 잡고도 9년째 한 푼 못 받은 '시민덕희', 결국 최후통첩 꺼냈다 [김수호의 리캐스트]\n",
      "https://v.daum.net/v/20250407181900333\n",
      "제10회 조선통신사 한·일 우정 걷기…허남정 단장 동행기<5>\n",
      "https://v.daum.net/v/20250407165417820\n",
      "‘어른 김장하’ 장학생 문형배, 자폐아 키우며 세상 이해한 김형두 [영상]\n",
      "https://v.daum.net/v/20250407140512254\n",
      "[가만한 당신] 냉전 체스 판의 '폰'이기를 거부한 체스 챔프\n",
      "https://v.daum.net/v/20250408043126944\n",
      "[단독] 언더우드의 110년 전 편지… “한국인은 고등 교육 받을 준비 돼 있다”\n",
      "https://v.daum.net/v/20250405050216058\n",
      "③목숨 건 ‘뿌리 찾기’···벽 앞에 울다[생사고투]\n",
      "https://v.daum.net/v/20250403060005274\n",
      "종교를 초월한 인연…‘인천 봉사왕’ 故장성철씨 49재 거행\n",
      "https://v.daum.net/v/20250402164120082\n",
      "2차대전 때 독일·일본軍 암호 푼 英 여성 비밀 요원 별세\n",
      "https://v.daum.net/v/20250402095023046\n",
      "대장장이가 제 직업입니다, 저는 그게 자랑스럽습니다\n",
      "https://v.daum.net/v/20250408162102294\n"
     ]
    }
   ],
   "source": [
    "print_news(\"인물\")"
   ]
  },
  {
   "cell_type": "code",
   "execution_count": 32,
   "id": "81ddd984",
   "metadata": {},
   "outputs": [
    {
     "name": "stdout",
     "output_type": "stream",
     "text": [
      "해당하는 카테고리가 존재하지 않습니다.\n"
     ]
    }
   ],
   "source": [
    "print_news(\"이무현\")"
   ]
  }
 ],
 "metadata": {
  "kernelspec": {
   "display_name": "base",
   "language": "python",
   "name": "python3"
  },
  "language_info": {
   "codemirror_mode": {
    "name": "ipython",
    "version": 3
   },
   "file_extension": ".py",
   "mimetype": "text/x-python",
   "name": "python",
   "nbconvert_exporter": "python",
   "pygments_lexer": "ipython3",
   "version": "3.12.7"
  }
 },
 "nbformat": 4,
 "nbformat_minor": 5
}
