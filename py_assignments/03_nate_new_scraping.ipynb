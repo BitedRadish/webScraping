{
 "cells": [
  {
   "cell_type": "code",
   "execution_count": 70,
   "id": "2126d7dd",
   "metadata": {},
   "outputs": [],
   "source": [
    "import os\n",
    "import requests\n",
    "from bs4 import BeautifulSoup\n",
    "from urllib.parse import urljoin\n",
    "from IPython.display import Image, display\n",
    "\n",
    "type_dict = {\n",
    "    \"정치\": 2,\n",
    "    \"경제\": 3,\n",
    "    \"사회\": 4,\n",
    "    \"시계\": 5,\n",
    "    \"IT/과학\": 6,\n",
    "}"
   ]
  },
  {
   "cell_type": "code",
   "execution_count": 87,
   "id": "c22225b1",
   "metadata": {},
   "outputs": [],
   "source": [
    "def getNews(type):\n",
    "    url=f\"https://news.nate.com/section?mid=n0{type_dict[type]}00\"\n",
    "    res=requests.get(url)\n",
    "    if(res.ok):\n",
    "        soup=BeautifulSoup(res.text,\"html.parser\")\n",
    "        containers=soup.select(\"div#newsContents div.mduCluster\")\n",
    "\n",
    "        for container in containers:\n",
    "            main_article_title=container.select_one(\"div.mduCluster_title\").get_text()\n",
    "            big_article=container.select_one(\"div.mlt01>a\")\n",
    "\n",
    "            print(f\"==========={main_article_title}===========\")\n",
    "            # 대문 링크\n",
    "            big_link=big_article[\"href\"]\n",
    "            # 대문 이미지\n",
    "            big_img=big_article.select_one(\"img\")[\"src\"]\n",
    "            big_img=urljoin(base=url,url=big_img)\n",
    "            big_img=Image(url=big_img)\n",
    "            \n",
    "            # 대문 제목\n",
    "            big_title=big_article.select_one(\"h2.tit\").get_text()\n",
    "            print(f\"{big_title} https:{big_link}\")\n",
    "            display(big_img)\n",
    "\n",
    "\n",
    "\n",
    "\n",
    "            # 소제목 기사\n",
    "            small_lists=container.select(\"ul.mduList1>li\")\n",
    "\n",
    "            for small_list in small_lists:\n",
    "                a_tag=small_list.select_one(\"h2>a\")\n",
    "                small_title=a_tag.get_text()\n",
    "                small_link=a_tag[\"href\"]\n",
    "\n",
    "\n",
    "                print(f\"{small_title} http:{small_link}\")\n",
    "                \n",
    "\n",
    "\n",
    "\n"
   ]
  },
  {
   "cell_type": "code",
   "execution_count": 88,
   "id": "189e0c7a",
   "metadata": {},
   "outputs": [
    {
     "name": "stdout",
     "output_type": "stream",
     "text": [
      "===========오세훈 서울시장 행보===========\n",
      "오세훈 13일 대선 출사표…\"죄송한 마음에 결심 늦었다\"(종합) https://news.nate.com/view/20250409n29780?mid=n0200\n"
     ]
    },
    {
     "data": {
      "text/html": [
       "<img src=\"https://thumbnews.nateimg.co.kr/news90///news.nateimg.co.kr/orgImg/ae/2025/04/09/ae_1744182726915_812413_0.jpg\"/>"
      ],
      "text/plain": [
       "<IPython.core.display.Image object>"
      ]
     },
     "metadata": {},
     "output_type": "display_data"
    },
    {
     "name": "stdout",
     "output_type": "stream",
     "text": [
      "출사표 던진 오세훈 \"대선 임하는 마음가짐은 약자동행\"(종합) http://news.nate.com/view/20250409n33343?mid=n0200\n",
      "오세훈, 시장직 달고 대권 도전…\"마지막까지 시정 책임\" http://news.nate.com/view/20250409n27309?mid=n0200\n",
      "오세훈, 13일 대선 출마 선언…\"약자동행 상징 장소서 발표\" http://news.nate.com/view/20250409n17632?mid=n0200\n",
      "오세훈 \"'1대1' 양자대결 지지율 제일 높아…출마 선언은 아직\" http://news.nate.com/view/20250408n19460?mid=n0200\n",
      "오세훈 \"대선 출마 여부 깊은 고민…빠른 시일 내 결정하겠다\" http://news.nate.com/view/20250407n33121?mid=n0200\n",
      "===========명태균 관련 의혹 일파만파===========\n",
      "검찰, '명태균 처남 채용 의혹' 경남평생교육진흥원 압수수색 https://news.nate.com/view/20250409n34600?mid=n0200\n"
     ]
    },
    {
     "data": {
      "text/html": [
       "<img src=\"https://thumbnews.nateimg.co.kr/news90///news.nateimg.co.kr/orgImg/sg/2025/04/09/20250318517251.jpg\"/>"
      ],
      "text/plain": [
       "<IPython.core.display.Image object>"
      ]
     },
     "metadata": {},
     "output_type": "display_data"
    },
    {
     "name": "stdout",
     "output_type": "stream",
     "text": [
      "'공천 거래' 명태균·김영선 구속 5개월 만에 보석으로 풀려나 http://news.nate.com/view/20250409n30023?mid=n0200\n",
      "명태균·김영선, 구속 145일 만에 풀려난다…\"주거지 제한, 보석금 5000... http://news.nate.com/view/20250409n27152?mid=n0200\n",
      "'정치자금법 위반' 명태균·김영선 보석 허가…\"방어권 보장\"(종합) http://news.nate.com/view/20250409n26414?mid=n0200\n",
      "창원지법 '정치자금법 위반 혐의' 명태균·김영선 보석 허가 http://news.nate.com/view/20250409n23486?mid=n0200\n",
      "명태균·김영선 풀려나…보증금 5천만원·주거지 제한 '보석허가' http://news.nate.com/view/20250409n23830?mid=n0200\n",
      "===========['비상계엄' 후폭풍] 대통령경호처===========\n",
      "[단독]경호처, '윤석열 체포 저지' 반대 간부 해임징계 한덕수에 제청 https://news.nate.com/view/20250409n33483?mid=n0200\n"
     ]
    },
    {
     "data": {
      "text/html": [
       "<img src=\"https://thumbnews.nateimg.co.kr/news90///news.nateimg.co.kr/orgImg/kh/2025/04/09/news-p.v1.20250409.5e2f4a39764c4ace970a94b81abf9f3e_P1.jpg\"/>"
      ],
      "text/plain": [
       "<IPython.core.display.Image object>"
      ]
     },
     "metadata": {},
     "output_type": "display_data"
    },
    {
     "name": "stdout",
     "output_type": "stream",
     "text": [
      "[속보] 김성훈 \"비화폰 서버 기록 삭제 지시? 사실 아냐…보안 조치한 것\" http://news.nate.com/view/20250321n10039?mid=n0200\n",
      "[속보] '윤석열 체포 방해' 경호처 김성훈·이광우 구속심사 출석 http://news.nate.com/view/20250321n09578?mid=n0200\n",
      "[단독] 김성훈 경호차장 영장심사 핵심 쟁점 떠오른 '내란죄 수사권' http://news.nate.com/view/20250320n01206?mid=n0200\n",
      "[단독] 김성훈 '비화폰 기록 삭제 지시' 포렌식서 들통 http://news.nate.com/view/20250320n01537?mid=n0200\n",
      "'비화폰 삭제' 지시 후 '지시'마저 숨겼다…김성훈 '은폐 정황' 포착 http://news.nate.com/view/20250319n36685?mid=n0200\n",
      "===========육군 훈련병 군기 훈련 중 사망===========\n",
      "'훈련병 사망' 중대장·부중대장, 항소심서도 무죄 주장 https://news.nate.com/view/20250409n30984?mid=n0200\n"
     ]
    },
    {
     "data": {
      "text/html": [
       "<img src=\"https://thumbnews.nateimg.co.kr/news90///news.nateimg.co.kr/orgImg/na/2025/04/09/6717921_high.jpg\"/>"
      ],
      "text/plain": [
       "<IPython.core.display.Image object>"
      ]
     },
     "metadata": {},
     "output_type": "display_data"
    },
    {
     "name": "stdout",
     "output_type": "stream",
     "text": [
      "'입대 10일차' 훈련병 숨졌는데…\"형량 낮추자\" 돈 모은 선배들 http://news.nate.com/view/20250409n20404?mid=n0200\n",
      "'훈련병 사망' 1심 판결에 \"부당하다\" 검찰‧피고인 쌍방 항소 http://news.nate.com/view/20250113n28666?mid=n0200\n",
      "'훈련병 사망' 지휘관들 징역 5년·3년…유족 \"500년도 적어\"(종합) http://news.nate.com/view/20250107n25847?mid=n0200\n",
      "'훈련병 사망' 중대장·부중대장 징역 5년·3년 선고…\"비정상적 군기훈련\"(... http://news.nate.com/view/20250107n25283?mid=n0200\n",
      "'훈련병 얼차려 사망' 중대장 징역 5년…\"21세 불과한 피해자 생명 잃어\" http://news.nate.com/view/20250107n23131?mid=n0200\n",
      "'훈련병 얼차려 사망' 지휘관들 징역 5년·3년…\"피해고통 극심\" http://news.nate.com/view/20250107n22226?mid=n0200\n",
      "[단독] '얼차려'에 죽은 훈련병…가혹행위 눈감은 '얼빠진' 인권위 http://news.nate.com/view/20241030n23984?mid=n0200\n",
      "===========국민의힘 소식===========\n",
      "권성동 \"윤석열·이재명 동시 퇴장이 시대의 명령\" https://news.nate.com/view/20250409n27024?mid=n0200\n"
     ]
    },
    {
     "data": {
      "text/html": [
       "<img src=\"https://thumbnews.nateimg.co.kr/news90///news.nateimg.co.kr/orgImg/hk/2025/04/09/ZN.40098378.1.jpg\"/>"
      ],
      "text/plain": [
       "<IPython.core.display.Image object>"
      ]
     },
     "metadata": {},
     "output_type": "display_data"
    },
    {
     "name": "stdout",
     "output_type": "stream",
     "text": [
      "국민의힘, 5월3일 대선 후보 낸다…'명태균 방지 조항' 새로 도입 http://news.nate.com/view/20250409n19072?mid=n0200\n",
      "국민의힘, 다음 달 3일 대선 후보 선출 http://news.nate.com/view/20250409n18638?mid=n0200\n",
      "권성동 \"이번 대선은 이재명 심판 선거 돼야…尹은 심판 받았다\"(종합) http://news.nate.com/view/20250409n18435?mid=n0200\n",
      "이재명 견제 속도 내는 국힘…법원에 '신속재판의견서' 낸다 http://news.nate.com/view/20250409n10420?mid=n0200\n",
      "[속보]국힘 경선 '명태균 방지조항' 도입…여론조사 사전신고 의무 http://news.nate.com/view/20250409n17680?mid=n0200\n",
      "어대명? 반전 변수는 있다…국힘 기대하는 시나리오 셋 http://news.nate.com/view/20250409n01709?mid=n0200\n",
      "==========='헌법재판관 지명' 이완규===========\n",
      "노무현에 따졌던 '그 검사' 다시 돌아왔다…이완규 \"사퇴 거부\" https://news.nate.com/view/20250409n27495?mid=n0200\n"
     ]
    },
    {
     "data": {
      "text/html": [
       "<img src=\"https://thumbnews.nateimg.co.kr/news90///news.nateimg.co.kr/orgImg/no/2025/04/09/SSC_20250409152849_V.jpg\"/>"
      ],
      "text/plain": [
       "<IPython.core.display.Image object>"
      ]
     },
     "metadata": {},
     "output_type": "display_data"
    },
    {
     "name": "stdout",
     "output_type": "stream",
     "text": [
      "이완규 \"尹과 친구인 건 맞아…'안가 회동' 기소될 사안 아냐\" http://news.nate.com/view/20250409n26737?mid=n0200\n",
      "이완규 \"헌재 파면 결정 승복…尹 승복않는 이유 모르겠다\" http://news.nate.com/view/20250409n23887?mid=n0200\n",
      "이완규 \"국힘 당적 보유한 적 없다, 정치활동 한 적 없어\" http://news.nate.com/view/20250409n19005?mid=n0200\n",
      "계엄 직후 \"사인으로 돌아가겠다\"던 이완규, 이제는 '사퇴 거부' http://news.nate.com/view/20250409n18671?mid=n0200\n",
      "논란의 이완규 알고보니…노무현과 붙었던 바로 그 검사 http://news.nate.com/view/20250409n16081?mid=n0200\n",
      "'헌법재판관 지명' 이완규, 野 사퇴 요구에 \"권한대행 결정 존중\" http://news.nate.com/view/20250409n14064?mid=n0200\n",
      "안가회동, 尹 장모 변호까지…韓  이완규 기습 지명에 학계 뜨거운 논란 [세... http://news.nate.com/view/20250409n13547?mid=n0200\n",
      "===========이재명 대선 출마 임박===========\n",
      "'대선 시동' 이재명, 8년 만의 단독 저서 '결국 국민이 합니다' 출간 https://news.nate.com/view/20250409n22374?mid=n0200\n"
     ]
    },
    {
     "data": {
      "text/html": [
       "<img src=\"https://thumbnews.nateimg.co.kr/news90///news.nateimg.co.kr/orgImg/hr/2025/04/09/news-p.v1.20250409.596e6ba70b4d458c8fdd7131611755c9_P1.jpg\"/>"
      ],
      "text/plain": [
       "<IPython.core.display.Image object>"
      ]
     },
     "metadata": {},
     "output_type": "display_data"
    },
    {
     "name": "stdout",
     "output_type": "stream",
     "text": [
      "李 대선출마 공식화…\"위대한 대한민국 향한 길 국민과 걷겠다\"(종합) http://news.nate.com/view/20250409n16925?mid=n0200\n",
      "이재명, 대표직 사퇴…\"국민과 함께하겠다\" 대선 출마 수순 http://news.nate.com/view/20250409n12684?mid=n0200\n",
      "[속보] 이재명, 대표직 사퇴…\"새로운 일 시작\" 대선출마 수순 http://news.nate.com/view/20250409n11501?mid=n0200\n",
      "이재명 \"새로운 일 시작\" 대표직 사퇴…이르면 내일 출마선언 http://news.nate.com/view/20250409n12142?mid=n0200\n",
      "===========헌법재판관 지명·임기 갈등===========\n",
      "우원식 \"인사청문 요청 접수 않겠다\"…법조계 보이콧엔 회의적 https://news.nate.com/view/20250409n26089?mid=n0200\n"
     ]
    },
    {
     "data": {
      "text/html": [
       "<img src=\"https://thumbnews.nateimg.co.kr/news90///news.nateimg.co.kr/orgImg/na/2025/04/09/7039716_high.jpg\"/>"
      ],
      "text/plain": [
       "<IPython.core.display.Image object>"
      ]
     },
     "metadata": {},
     "output_type": "display_data"
    },
    {
     "name": "stdout",
     "output_type": "stream",
     "text": [
      "'한덕수, 대통령몫 재판관 지명 불가' 법안, 野주도 법사위 통과 http://news.nate.com/view/20250409n18227?mid=n0200\n",
      "민주, '권한대행의 대통령몫 재판관 임명불가' 법사위 의결 http://news.nate.com/view/20250409n16624?mid=n0200\n",
      "[속보]헌법재판관 임기연장법 법사위 의결…국힘 반발 http://news.nate.com/view/20250409n15031?mid=n0200\n",
      "한덕수, 재판관 임명 강행땐 진보3·중도2·보수4…헌재 '지각변동' http://news.nate.com/view/20250409n02279?mid=n0200\n",
      "[단독] '안가 회동' 이완규, 진술 거부…휴대폰 교체 이유도 '침묵' http://news.nate.com/view/20250408n36003?mid=n0200\n",
      "'줄탄핵 정국'서 헌재 기능 마비 땐 행정부까지 '올스톱' 우려 [韓, 헌법... http://news.nate.com/view/20250408n35829?mid=n0200\n",
      "===========조기 대선 레이스 '분주'===========\n",
      "국힘 대선 후보군 벌써 15명…'절대 강자' 없자 너도나도 \"출마\" https://news.nate.com/view/20250409n23624?mid=n0200\n"
     ]
    },
    {
     "data": {
      "text/html": [
       "<img src=\"https://thumbnews.nateimg.co.kr/news90///news.nateimg.co.kr/orgImg/jo/2025/04/09/eb83e4e1-a3de-4979-a507-317af3c56392.jpg\"/>"
      ],
      "text/plain": [
       "<IPython.core.display.Image object>"
      ]
     },
     "metadata": {},
     "output_type": "display_data"
    },
    {
     "name": "stdout",
     "output_type": "stream",
     "text": [
      "'6·3 대선' 확정에 잠룡들 잇따른 출사표…56일간 레이스 개막 http://news.nate.com/view/20250408n34166?mid=n0200\n",
      "황교안 '대선 출마·국민의힘 탈당' 선언…\"부정선거 척결 완수해야\" http://news.nate.com/view/20250408n26482?mid=n0200\n",
      "'보수 지지율 1위' 김문수 장관직 사퇴…안철수·한동훈도 출마 선언 http://news.nate.com/view/20250408n10146?mid=n0200\n",
      "김문수 국무회의서 사의표명…오후 퇴임식 뒤 대선 준비 본격화(종합) http://news.nate.com/view/20250408n11634?mid=n0200\n",
      "보수잠룡 1위 김문수, 대선 출마한다…오늘 장관직 사퇴 http://news.nate.com/view/20250408n08275?mid=n0200\n",
      "누가 이재명 대항마 될까…득표율은 김문수, 경쟁력은 오세훈·홍준표 http://news.nate.com/view/20250408n02159?mid=n0200\n",
      "===========이철우 대선 출마 선언===========\n",
      "이철우 \"이재명 이길 새 인물…새로운 박정희 되겠다\" https://news.nate.com/view/20250409n23037?mid=n0200\n"
     ]
    },
    {
     "data": {
      "text/html": [
       "<img src=\"https://thumbnews.nateimg.co.kr/news90///news.nateimg.co.kr/orgImg/fn/2025/04/09/202504091410120064_l.jpg\"/>"
      ],
      "text/plain": [
       "<IPython.core.display.Image object>"
      ]
     },
     "metadata": {},
     "output_type": "display_data"
    },
    {
     "name": "stdout",
     "output_type": "stream",
     "text": [
      "이철우 \"새로운 박정희 정신으로\"…구미서 '대선 출마' 선언 http://news.nate.com/view/20250409n18252?mid=n0200\n",
      "이철우, 대선 출마선언…\"무너져 가는 나라 이대로 볼 수 없어\" http://news.nate.com/view/20250409n13526?mid=n0200\n",
      "이철우 경북도지사 박정희 생가 방문…대선 출마 공식화 http://news.nate.com/view/20250409n13681?mid=n0200\n",
      "대선주자 이철우 경북지사, 박정희 생가서 레이스 시작 http://news.nate.com/view/20250409n11693?mid=n0200\n",
      "===========김두관 대선 출마 선언===========\n",
      "김두관 \"국회 분원·대통령실 부지 있는 세종…수도 이전 충분히 가능\" https://news.nate.com/view/20250409n16582?mid=n0200\n"
     ]
    },
    {
     "data": {
      "text/html": [
       "<img src=\"https://thumbnews.nateimg.co.kr/news90///news.nateimg.co.kr/orgImg/hi/2025/04/09/6f8d1ae0-ae90-4cbd-9db0-756d642054c5.jpg\"/>"
      ],
      "text/plain": [
       "<IPython.core.display.Image object>"
      ]
     },
     "metadata": {},
     "output_type": "display_data"
    },
    {
     "name": "stdout",
     "output_type": "stream",
     "text": [
      "대권 도전 김두관 \"수도권 1극, 5개 초광역 메가경제로 전환해야\" http://news.nate.com/view/20250409n19472?mid=n0200\n",
      "[인터뷰] 김두관 \"질 게 뻔한 경선, 왜 나왔냐고요?\" http://news.nate.com/view/20250409n09486?mid=n0200\n",
      "광주찾은 김두관 \"어대명으로는 압도적 정권교체 장담 못해\" http://news.nate.com/view/20250408n15312?mid=n0200\n",
      "5·18묘지 찾은 김두관 \"어대명 정해졌으면 내가 왜 출마?\" http://news.nate.com/view/20250408n15117?mid=n0200\n",
      "김두관, 대선 출마 선언 \"개헌 대통령 되겠다…어대명 경선 안 돼\" http://news.nate.com/view/20250407n12354?mid=n0200\n",
      "===========김문수 대선 출마 선언===========\n",
      "김문수 \"위대한 대한민국 이룰 것\"…현충원 찾아 본격 대선 모드 https://news.nate.com/view/20250409n21665?mid=n0200\n"
     ]
    },
    {
     "data": {
      "text/html": [
       "<img src=\"https://thumbnews.nateimg.co.kr/news90///news.nateimg.co.kr/orgImg/se/2025/04/09/2GRGE4HZ8C_3.jpg\"/>"
      ],
      "text/plain": [
       "<IPython.core.display.Image object>"
      ]
     },
     "metadata": {},
     "output_type": "display_data"
    },
    {
     "name": "stdout",
     "output_type": "stream",
     "text": [
      "김문수, 대선 출마 선언…\"깨끗한 제가 피고인 이재명 이긴다\" http://news.nate.com/view/20250409n10493?mid=n0200\n",
      "김문수 \"깨끗한 내가 이재명 이겨…외연확장? 살아온 길 봐달라\"(종합) http://news.nate.com/view/20250409n16139?mid=n0200\n",
      "김문수 \"봉천동 아파트가 재산 전부…깨끗한 내가 李 상대 제격\" http://news.nate.com/view/20250409n10695?mid=n0200\n",
      "\"내가 이재명 이긴다\"…범보수 1위 김문수, 대선 출마 선언 http://news.nate.com/view/20250409n10609?mid=n0200\n",
      "김문수, 대선 출마선언…\"12개 죄목 이재명 이길 깨끗한 후보는 나\" http://news.nate.com/view/20250409n10640?mid=n0200\n",
      "===========김동연 대선 출마 선언===========\n",
      "김동연이 밝힌 '3무3유 선거운동'…\"국민이 계파이고 조직\" https://news.nate.com/view/20250409n21326?mid=n0200\n"
     ]
    },
    {
     "data": {
      "text/html": [
       "<img src=\"https://thumbnews.nateimg.co.kr/news90///news.nateimg.co.kr/orgImg/mh/2025/04/09/2025040901039927042002_b.jpg\"/>"
      ],
      "text/plain": [
       "<IPython.core.display.Image object>"
      ]
     },
     "metadata": {},
     "output_type": "display_data"
    },
    {
     "name": "stdout",
     "output_type": "stream",
     "text": [
      "김동연, '관세외교' 미국행 앞두고 대선 출사표…\"정권교체 이상의 교체\" http://news.nate.com/view/20250409n21316?mid=n0200\n",
      "김동연, 관세 대응 미 출장길서 '출사표'…경제통 이미지 부각 http://news.nate.com/view/20250409n18321?mid=n0200\n",
      "김동연, 인천공항서 대선 출사표…\"정권교체 이상의 교체 필요\" http://news.nate.com/view/20250409n07142?mid=n0200\n",
      "\"4일간의 미국 출장, 경선 앞두고 손해 아닌가\" 질문에 김동연은 http://news.nate.com/view/20250409n12169?mid=n0200\n",
      "김동연 \"기재부·검찰 해체수준 개혁\"···美출장길에 대권도전 공식 선언 http://news.nate.com/view/20250409n07015?mid=n0200\n",
      "===========이준석 대선예비후보 등록===========\n",
      "'막차' 타고 대구 간 이준석…\"이재명 대권 목전…이기는 선택 되겠다\" https://news.nate.com/view/20250409n20281?mid=n0200\n"
     ]
    },
    {
     "data": {
      "text/html": [
       "<img src=\"https://thumbnews.nateimg.co.kr/news90///news.nateimg.co.kr/orgImg/mt/2025/04/09/2025040911492117554_1.jpg\"/>"
      ],
      "text/plain": [
       "<IPython.core.display.Image object>"
      ]
     },
     "metadata": {},
     "output_type": "display_data"
    },
    {
     "name": "stdout",
     "output_type": "stream",
     "text": [
      "대구 찾은 이준석 \"이재명 대권 목전, 묵과 않을 것…이기는 선택 되겠다\" http://news.nate.com/view/20250409n21824?mid=n0200\n",
      "대구로 간 이준석 \"TK가 판 뒤집어 엎을 때\" http://news.nate.com/view/20250409n17205?mid=n0200\n",
      "이준석, 대구서 첫 선거운동…\"4년 전처럼 기회 주시라\" http://news.nate.com/view/20250409n15135?mid=n0200\n",
      "이준석, 단일화 질문에 \"국힘서 모욕적으로 내쫓았는데…\" http://news.nate.com/view/20250408n20876?mid=n0200\n",
      "이준석 \"당선 외 목표 없다…이재명 우세한 것 같지만 우려도 많아\" http://news.nate.com/view/20250408n24875?mid=n0200\n",
      "===========황교안 대선 출마 선언===========\n",
      "황교안, 국힘 탈당 대선 출마 \"부정선거 척결…尹 응원 받아\" https://news.nate.com/view/20250409n19177?mid=n0200\n"
     ]
    },
    {
     "data": {
      "text/html": [
       "<img src=\"https://thumbnews.nateimg.co.kr/news90///news.nateimg.co.kr/orgImg/na/2025/04/09/7226064_high.jpg\"/>"
      ],
      "text/plain": [
       "<IPython.core.display.Image object>"
      ]
     },
     "metadata": {},
     "output_type": "display_data"
    },
    {
     "name": "stdout",
     "output_type": "stream",
     "text": [
      "황교안, 대선 '무소속' 출마…\"부정선거·반국가세력 척결해 대한민국을 정상국... http://news.nate.com/view/20250409n19293?mid=n0200\n",
      "황교안도 출사표, 국힘 탈당 후 무소속 출마…\"尹 응원받아\" http://news.nate.com/view/20250409n15155?mid=n0200\n",
      "황교안, 9일 무소속 대선출마…\"尹 반국가세력 척결 완수\" http://news.nate.com/view/20250408n27743?mid=n0200\n",
      "황교안, 국힘 떠나 무소속 대선 출마…\"부정선거 세력과 맞설 것\" http://news.nate.com/view/20250408n26945?mid=n0200\n",
      "황교안, 국힘 탈당·대선 출마 선언⋯\"반드시 '부정선거' 척결해야... http://news.nate.com/view/20250408n27308?mid=n0200\n"
     ]
    }
   ],
   "source": [
    "getNews(\"정치\")"
   ]
  },
  {
   "cell_type": "code",
   "execution_count": null,
   "id": "40a06e78",
   "metadata": {},
   "outputs": [],
   "source": []
  }
 ],
 "metadata": {
  "kernelspec": {
   "display_name": "base",
   "language": "python",
   "name": "python3"
  },
  "language_info": {
   "codemirror_mode": {
    "name": "ipython",
    "version": 3
   },
   "file_extension": ".py",
   "mimetype": "text/x-python",
   "name": "python",
   "nbconvert_exporter": "python",
   "pygments_lexer": "ipython3",
   "version": "3.12.7"
  }
 },
 "nbformat": 4,
 "nbformat_minor": 5
}
